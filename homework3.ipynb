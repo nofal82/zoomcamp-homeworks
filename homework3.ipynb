{
 "cells": [
  {
   "cell_type": "code",
   "execution_count": 173,
   "id": "31cb4329",
   "metadata": {},
   "outputs": [],
   "source": [
    "import pandas as pd\n",
    "import numpy as np\n",
    "import matplotlib.pyplot as plt\n",
    "import seaborn as sns\n",
    "import wget\n",
    "%matplotlib inline"
   ]
  },
  {
   "cell_type": "code",
   "execution_count": 15,
   "id": "736db7ae",
   "metadata": {},
   "outputs": [
    {
     "name": "stdout",
     "output_type": "stream",
     "text": [
      "100% [..........................................................................] 1423529 / 1423529housing.csv\n"
     ]
    }
   ],
   "source": [
    "url = 'https://raw.githubusercontent.com/alexeygrigorev/datasets/master/housing.csv'\n",
    "filename = wget.download(url)\n",
    "print(filename)"
   ]
  },
  {
   "cell_type": "code",
   "execution_count": 235,
   "id": "38d952e3",
   "metadata": {},
   "outputs": [],
   "source": [
    "data = pd.read_csv(filename)"
   ]
  },
  {
   "cell_type": "code",
   "execution_count": 350,
   "id": "9d4d0620",
   "metadata": {},
   "outputs": [],
   "source": [
    "df[\"above_average\"] = 1"
   ]
  },
  {
   "cell_type": "code",
   "execution_count": 351,
   "id": "286cf698",
   "metadata": {},
   "outputs": [],
   "source": [
    "#df.isna().sum() , replace with 0\n",
    "df[\"total_bedrooms\"] = df[\"total_bedrooms\"].fillna(0)"
   ]
  },
  {
   "cell_type": "markdown",
   "id": "fdd3a201",
   "metadata": {},
   "source": [
    "### Simple feature engineering and make median_house_value binary\n"
   ]
  },
  {
   "cell_type": "code",
   "execution_count": 352,
   "id": "cded7470",
   "metadata": {},
   "outputs": [
    {
     "name": "stderr",
     "output_type": "stream",
     "text": [
      "C:\\Users\\LENOVO\\AppData\\Local\\Temp/ipykernel_27428/4008400095.py:4: SettingWithCopyWarning: \n",
      "A value is trying to be set on a copy of a slice from a DataFrame\n",
      "\n",
      "See the caveats in the documentation: https://pandas.pydata.org/pandas-docs/stable/user_guide/indexing.html#returning-a-view-versus-a-copy\n",
      "  df.above_average[df[\"median_house_value\"] > df[\"median_house_value\"].mean()] = 1\n",
      "C:\\Users\\LENOVO\\AppData\\Local\\Temp/ipykernel_27428/4008400095.py:5: SettingWithCopyWarning: \n",
      "A value is trying to be set on a copy of a slice from a DataFrame\n",
      "\n",
      "See the caveats in the documentation: https://pandas.pydata.org/pandas-docs/stable/user_guide/indexing.html#returning-a-view-versus-a-copy\n",
      "  df.above_average[df[\"median_house_value\"] <= df[\"median_house_value\"].mean()] = 0\n"
     ]
    },
    {
     "data": {
      "text/html": [
       "<div>\n",
       "<style scoped>\n",
       "    .dataframe tbody tr th:only-of-type {\n",
       "        vertical-align: middle;\n",
       "    }\n",
       "\n",
       "    .dataframe tbody tr th {\n",
       "        vertical-align: top;\n",
       "    }\n",
       "\n",
       "    .dataframe thead th {\n",
       "        text-align: right;\n",
       "    }\n",
       "</style>\n",
       "<table border=\"1\" class=\"dataframe\">\n",
       "  <thead>\n",
       "    <tr style=\"text-align: right;\">\n",
       "      <th></th>\n",
       "      <th>latitude</th>\n",
       "      <th>longitude</th>\n",
       "      <th>housing_median_age</th>\n",
       "      <th>total_rooms</th>\n",
       "      <th>total_bedrooms</th>\n",
       "      <th>population</th>\n",
       "      <th>households</th>\n",
       "      <th>median_income</th>\n",
       "      <th>median_house_value</th>\n",
       "      <th>ocean_proximity</th>\n",
       "      <th>bedrooms_per_room</th>\n",
       "      <th>rooms_per_household</th>\n",
       "      <th>population_per_household</th>\n",
       "      <th>above_average</th>\n",
       "    </tr>\n",
       "  </thead>\n",
       "  <tbody>\n",
       "    <tr>\n",
       "      <th>0</th>\n",
       "      <td>37.88</td>\n",
       "      <td>-122.23</td>\n",
       "      <td>41.0</td>\n",
       "      <td>880.0</td>\n",
       "      <td>129.0</td>\n",
       "      <td>322.0</td>\n",
       "      <td>126.0</td>\n",
       "      <td>8.3252</td>\n",
       "      <td>452600.0</td>\n",
       "      <td>NEAR BAY</td>\n",
       "      <td>0.146591</td>\n",
       "      <td>6.984127</td>\n",
       "      <td>2.555556</td>\n",
       "      <td>1</td>\n",
       "    </tr>\n",
       "    <tr>\n",
       "      <th>1</th>\n",
       "      <td>37.86</td>\n",
       "      <td>-122.22</td>\n",
       "      <td>21.0</td>\n",
       "      <td>7099.0</td>\n",
       "      <td>1106.0</td>\n",
       "      <td>2401.0</td>\n",
       "      <td>1138.0</td>\n",
       "      <td>8.3014</td>\n",
       "      <td>358500.0</td>\n",
       "      <td>NEAR BAY</td>\n",
       "      <td>0.155797</td>\n",
       "      <td>6.238137</td>\n",
       "      <td>2.109842</td>\n",
       "      <td>1</td>\n",
       "    </tr>\n",
       "    <tr>\n",
       "      <th>2</th>\n",
       "      <td>37.85</td>\n",
       "      <td>-122.24</td>\n",
       "      <td>52.0</td>\n",
       "      <td>1467.0</td>\n",
       "      <td>190.0</td>\n",
       "      <td>496.0</td>\n",
       "      <td>177.0</td>\n",
       "      <td>7.2574</td>\n",
       "      <td>352100.0</td>\n",
       "      <td>NEAR BAY</td>\n",
       "      <td>0.129516</td>\n",
       "      <td>8.288136</td>\n",
       "      <td>2.802260</td>\n",
       "      <td>1</td>\n",
       "    </tr>\n",
       "    <tr>\n",
       "      <th>3</th>\n",
       "      <td>37.85</td>\n",
       "      <td>-122.25</td>\n",
       "      <td>52.0</td>\n",
       "      <td>1274.0</td>\n",
       "      <td>235.0</td>\n",
       "      <td>558.0</td>\n",
       "      <td>219.0</td>\n",
       "      <td>5.6431</td>\n",
       "      <td>341300.0</td>\n",
       "      <td>NEAR BAY</td>\n",
       "      <td>0.184458</td>\n",
       "      <td>5.817352</td>\n",
       "      <td>2.547945</td>\n",
       "      <td>1</td>\n",
       "    </tr>\n",
       "    <tr>\n",
       "      <th>4</th>\n",
       "      <td>37.85</td>\n",
       "      <td>-122.25</td>\n",
       "      <td>52.0</td>\n",
       "      <td>1627.0</td>\n",
       "      <td>280.0</td>\n",
       "      <td>565.0</td>\n",
       "      <td>259.0</td>\n",
       "      <td>3.8462</td>\n",
       "      <td>342200.0</td>\n",
       "      <td>NEAR BAY</td>\n",
       "      <td>0.172096</td>\n",
       "      <td>6.281853</td>\n",
       "      <td>2.181467</td>\n",
       "      <td>1</td>\n",
       "    </tr>\n",
       "  </tbody>\n",
       "</table>\n",
       "</div>"
      ],
      "text/plain": [
       "   latitude  longitude  housing_median_age  total_rooms  total_bedrooms  \\\n",
       "0     37.88    -122.23                41.0        880.0           129.0   \n",
       "1     37.86    -122.22                21.0       7099.0          1106.0   \n",
       "2     37.85    -122.24                52.0       1467.0           190.0   \n",
       "3     37.85    -122.25                52.0       1274.0           235.0   \n",
       "4     37.85    -122.25                52.0       1627.0           280.0   \n",
       "\n",
       "   population  households  median_income  median_house_value ocean_proximity  \\\n",
       "0       322.0       126.0         8.3252            452600.0        NEAR BAY   \n",
       "1      2401.0      1138.0         8.3014            358500.0        NEAR BAY   \n",
       "2       496.0       177.0         7.2574            352100.0        NEAR BAY   \n",
       "3       558.0       219.0         5.6431            341300.0        NEAR BAY   \n",
       "4       565.0       259.0         3.8462            342200.0        NEAR BAY   \n",
       "\n",
       "   bedrooms_per_room  rooms_per_household  population_per_household  \\\n",
       "0           0.146591             6.984127                  2.555556   \n",
       "1           0.155797             6.238137                  2.109842   \n",
       "2           0.129516             8.288136                  2.802260   \n",
       "3           0.184458             5.817352                  2.547945   \n",
       "4           0.172096             6.281853                  2.181467   \n",
       "\n",
       "   above_average  \n",
       "0              1  \n",
       "1              1  \n",
       "2              1  \n",
       "3              1  \n",
       "4              1  "
      ]
     },
     "execution_count": 352,
     "metadata": {},
     "output_type": "execute_result"
    }
   ],
   "source": [
    "df[\"bedrooms_per_room\"] = df[\"total_bedrooms\"] / df[\"total_rooms\"]\n",
    "df[\"rooms_per_household\"] = df[\"total_rooms\"] / df[\"households\"]\n",
    "df[\"population_per_household\"] = df[\"population\"] / df[\"households\"]\n",
    "df.above_average[df[\"median_house_value\"] > df[\"median_house_value\"].mean()] = 1\n",
    "df.above_average[df[\"median_house_value\"] <= df[\"median_house_value\"].mean()] = 0\n",
    "df.head()"
   ]
  },
  {
   "cell_type": "code",
   "execution_count": 239,
   "id": "d7d4db8c",
   "metadata": {},
   "outputs": [],
   "source": [
    "columns = ['latitude',\n",
    "'longitude',\n",
    "'housing_median_age',\n",
    "'total_rooms',\n",
    "'total_bedrooms',\n",
    "'population',\n",
    "'households',\n",
    "'median_income',\n",
    "'median_house_value',\n",
    "'ocean_proximity',\n",
    "\"bedrooms_per_room\",\n",
    "\"rooms_per_household\",\n",
    "\"population_per_household\",\n",
    "\"above_average\"]"
   ]
  },
  {
   "cell_type": "markdown",
   "id": "9b36d83d",
   "metadata": {},
   "source": [
    "#### What is the most frequent observation (mode) for the column ocean_proximity?"
   ]
  },
  {
   "cell_type": "code",
   "execution_count": 240,
   "id": "becc91d3",
   "metadata": {},
   "outputs": [
    {
     "data": {
      "text/plain": [
       "0    <1H OCEAN\n",
       "dtype: object"
      ]
     },
     "execution_count": 240,
     "metadata": {},
     "output_type": "execute_result"
    }
   ],
   "source": [
    "# its <1H OCEAN\n",
    "df[\"ocean_proximity\"].mode()"
   ]
  },
  {
   "cell_type": "markdown",
   "id": "724b9e84",
   "metadata": {},
   "source": [
    "### Split the data"
   ]
  },
  {
   "cell_type": "code",
   "execution_count": 192,
   "id": "214fefe6",
   "metadata": {},
   "outputs": [],
   "source": [
    "from sklearn.model_selection import train_test_split"
   ]
  },
  {
   "cell_type": "code",
   "execution_count": 196,
   "id": "b3daf724",
   "metadata": {},
   "outputs": [
    {
     "name": "stdout",
     "output_type": "stream",
     "text": [
      "<class 'pandas.core.frame.DataFrame'>\n",
      "RangeIndex: 20640 entries, 0 to 20639\n",
      "Data columns (total 14 columns):\n",
      " #   Column                    Non-Null Count  Dtype  \n",
      "---  ------                    --------------  -----  \n",
      " 0   latitude                  20640 non-null  float64\n",
      " 1   longitude                 20640 non-null  float64\n",
      " 2   housing_median_age        20640 non-null  float64\n",
      " 3   total_rooms               20640 non-null  float64\n",
      " 4   total_bedrooms            20640 non-null  float64\n",
      " 5   population                20640 non-null  float64\n",
      " 6   households                20640 non-null  float64\n",
      " 7   median_income             20640 non-null  float64\n",
      " 8   median_house_value        20640 non-null  float64\n",
      " 9   ocean_proximity           20640 non-null  object \n",
      " 10  bedrooms_per_room         20640 non-null  float64\n",
      " 11  rooms_per_household       20640 non-null  float64\n",
      " 12  population_per_household  20640 non-null  float64\n",
      " 13  above_average             20640 non-null  int64  \n",
      "dtypes: float64(12), int64(1), object(1)\n",
      "memory usage: 2.2+ MB\n"
     ]
    }
   ],
   "source": [
    "df.info()"
   ]
  },
  {
   "cell_type": "code",
   "execution_count": 241,
   "id": "e8b4236e",
   "metadata": {},
   "outputs": [],
   "source": [
    "# prepare X and y and then split\n",
    "X_train_full = df.loc[:, ~df.columns.isin(['median_house_value', 'above_average'])]\n",
    "y_train_full = df.above_average.values"
   ]
  },
  {
   "cell_type": "code",
   "execution_count": 244,
   "id": "90397247",
   "metadata": {},
   "outputs": [],
   "source": [
    "X_train, X_test, y_train, y_test = train_test_split(X_train_full, y_train_full, test_size=0.2, random_state=42)\n",
    "X_train, X_val, y_train, y_val = train_test_split(X_train, y_train, test_size=0.25, random_state=42) # 0.25 x 0.8 = 0.2"
   ]
  },
  {
   "cell_type": "code",
   "execution_count": 245,
   "id": "7460acd5",
   "metadata": {},
   "outputs": [
    {
     "data": {
      "text/html": [
       "<div>\n",
       "<style scoped>\n",
       "    .dataframe tbody tr th:only-of-type {\n",
       "        vertical-align: middle;\n",
       "    }\n",
       "\n",
       "    .dataframe tbody tr th {\n",
       "        vertical-align: top;\n",
       "    }\n",
       "\n",
       "    .dataframe thead th {\n",
       "        text-align: right;\n",
       "    }\n",
       "</style>\n",
       "<table border=\"1\" class=\"dataframe\">\n",
       "  <thead>\n",
       "    <tr style=\"text-align: right;\">\n",
       "      <th></th>\n",
       "      <th>latitude</th>\n",
       "      <th>longitude</th>\n",
       "      <th>housing_median_age</th>\n",
       "      <th>total_rooms</th>\n",
       "      <th>total_bedrooms</th>\n",
       "      <th>population</th>\n",
       "      <th>households</th>\n",
       "      <th>median_income</th>\n",
       "      <th>ocean_proximity</th>\n",
       "      <th>bedrooms_per_room</th>\n",
       "      <th>rooms_per_household</th>\n",
       "      <th>population_per_household</th>\n",
       "    </tr>\n",
       "  </thead>\n",
       "  <tbody>\n",
       "    <tr>\n",
       "      <th>2071</th>\n",
       "      <td>36.74</td>\n",
       "      <td>-119.85</td>\n",
       "      <td>35.0</td>\n",
       "      <td>1191.0</td>\n",
       "      <td>190.0</td>\n",
       "      <td>537.0</td>\n",
       "      <td>182.0</td>\n",
       "      <td>3.5375</td>\n",
       "      <td>INLAND</td>\n",
       "      <td>0.159530</td>\n",
       "      <td>6.543956</td>\n",
       "      <td>2.950549</td>\n",
       "    </tr>\n",
       "    <tr>\n",
       "      <th>2612</th>\n",
       "      <td>41.02</td>\n",
       "      <td>-124.16</td>\n",
       "      <td>23.0</td>\n",
       "      <td>1672.0</td>\n",
       "      <td>385.0</td>\n",
       "      <td>1060.0</td>\n",
       "      <td>390.0</td>\n",
       "      <td>2.1726</td>\n",
       "      <td>NEAR OCEAN</td>\n",
       "      <td>0.230263</td>\n",
       "      <td>4.287179</td>\n",
       "      <td>2.717949</td>\n",
       "    </tr>\n",
       "    <tr>\n",
       "      <th>10838</th>\n",
       "      <td>33.67</td>\n",
       "      <td>-117.92</td>\n",
       "      <td>14.0</td>\n",
       "      <td>6224.0</td>\n",
       "      <td>1679.0</td>\n",
       "      <td>3148.0</td>\n",
       "      <td>1589.0</td>\n",
       "      <td>4.2071</td>\n",
       "      <td>&lt;1H OCEAN</td>\n",
       "      <td>0.269762</td>\n",
       "      <td>3.916929</td>\n",
       "      <td>1.981120</td>\n",
       "    </tr>\n",
       "    <tr>\n",
       "      <th>4061</th>\n",
       "      <td>34.15</td>\n",
       "      <td>-118.45</td>\n",
       "      <td>10.0</td>\n",
       "      <td>1091.0</td>\n",
       "      <td>260.0</td>\n",
       "      <td>517.0</td>\n",
       "      <td>266.0</td>\n",
       "      <td>4.1727</td>\n",
       "      <td>&lt;1H OCEAN</td>\n",
       "      <td>0.238313</td>\n",
       "      <td>4.101504</td>\n",
       "      <td>1.943609</td>\n",
       "    </tr>\n",
       "    <tr>\n",
       "      <th>10767</th>\n",
       "      <td>33.63</td>\n",
       "      <td>-117.90</td>\n",
       "      <td>28.0</td>\n",
       "      <td>2370.0</td>\n",
       "      <td>352.0</td>\n",
       "      <td>832.0</td>\n",
       "      <td>347.0</td>\n",
       "      <td>7.1148</td>\n",
       "      <td>&lt;1H OCEAN</td>\n",
       "      <td>0.148523</td>\n",
       "      <td>6.829971</td>\n",
       "      <td>2.397695</td>\n",
       "    </tr>\n",
       "  </tbody>\n",
       "</table>\n",
       "</div>"
      ],
      "text/plain": [
       "       latitude  longitude  housing_median_age  total_rooms  total_bedrooms  \\\n",
       "2071      36.74    -119.85                35.0       1191.0           190.0   \n",
       "2612      41.02    -124.16                23.0       1672.0           385.0   \n",
       "10838     33.67    -117.92                14.0       6224.0          1679.0   \n",
       "4061      34.15    -118.45                10.0       1091.0           260.0   \n",
       "10767     33.63    -117.90                28.0       2370.0           352.0   \n",
       "\n",
       "       population  households  median_income ocean_proximity  \\\n",
       "2071        537.0       182.0         3.5375          INLAND   \n",
       "2612       1060.0       390.0         2.1726      NEAR OCEAN   \n",
       "10838      3148.0      1589.0         4.2071       <1H OCEAN   \n",
       "4061        517.0       266.0         4.1727       <1H OCEAN   \n",
       "10767       832.0       347.0         7.1148       <1H OCEAN   \n",
       "\n",
       "       bedrooms_per_room  rooms_per_household  population_per_household  \n",
       "2071            0.159530             6.543956                  2.950549  \n",
       "2612            0.230263             4.287179                  2.717949  \n",
       "10838           0.269762             3.916929                  1.981120  \n",
       "4061            0.238313             4.101504                  1.943609  \n",
       "10767           0.148523             6.829971                  2.397695  "
      ]
     },
     "execution_count": 245,
     "metadata": {},
     "output_type": "execute_result"
    }
   ],
   "source": [
    "#reset index\n",
    "# X_train_full = X_train_full.reset_index(drop=True)\n",
    "# X_train = X_train.reset_index(drop=True)\n",
    "# X_test = X_test.reset_index(drop=True)\n",
    "# X_val = X_val.reset_index(drop=True)\n",
    "X_val.head()\n"
   ]
  },
  {
   "cell_type": "code",
   "execution_count": 246,
   "id": "ea2748b1",
   "metadata": {},
   "outputs": [
    {
     "data": {
      "text/plain": [
       "(20640, 12384, 4128, 4128)"
      ]
     },
     "execution_count": 246,
     "metadata": {},
     "output_type": "execute_result"
    }
   ],
   "source": [
    "len(y_train_full), len(y_train), len(y_test), len(y_val)"
   ]
  },
  {
   "cell_type": "code",
   "execution_count": 247,
   "id": "09a086e9",
   "metadata": {},
   "outputs": [
    {
     "data": {
      "text/plain": [
       "(20640, 12384, 4128, 4128)"
      ]
     },
     "execution_count": 247,
     "metadata": {},
     "output_type": "execute_result"
    }
   ],
   "source": [
    "len(X_train_full), len(X_train), len(X_test), len(X_val)"
   ]
  },
  {
   "cell_type": "code",
   "execution_count": 272,
   "id": "aa6ca6bc",
   "metadata": {},
   "outputs": [
    {
     "data": {
      "text/plain": [
       "above_average               1.000000\n",
       "median_house_value          0.804353\n",
       "median_income               0.541778\n",
       "total_rooms                 0.128782\n",
       "rooms_per_household         0.112104\n",
       "housing_median_age          0.080069\n",
       "households                  0.074778\n",
       "total_bedrooms              0.056209\n",
       "population                 -0.014898\n",
       "population_per_household   -0.023354\n",
       "longitude                  -0.072633\n",
       "latitude                   -0.098810\n",
       "bedrooms_per_room          -0.211781\n",
       "dtype: float64"
      ]
     },
     "execution_count": 272,
     "metadata": {},
     "output_type": "execute_result"
    }
   ],
   "source": [
    "#correlation\n",
    "df.corrwith(df.above_average).sort_values(ascending=False)\n",
    "#median_income : 0.688075\n",
    "#bedrooms_per_room : -0.238759   (inverse correlation)        "
   ]
  },
  {
   "cell_type": "code",
   "execution_count": 205,
   "id": "0ac9dbf3",
   "metadata": {},
   "outputs": [
    {
     "data": {
      "text/html": [
       "<div>\n",
       "<style scoped>\n",
       "    .dataframe tbody tr th:only-of-type {\n",
       "        vertical-align: middle;\n",
       "    }\n",
       "\n",
       "    .dataframe tbody tr th {\n",
       "        vertical-align: top;\n",
       "    }\n",
       "\n",
       "    .dataframe thead th {\n",
       "        text-align: right;\n",
       "    }\n",
       "</style>\n",
       "<table border=\"1\" class=\"dataframe\">\n",
       "  <thead>\n",
       "    <tr style=\"text-align: right;\">\n",
       "      <th></th>\n",
       "      <th>latitude</th>\n",
       "      <th>longitude</th>\n",
       "      <th>housing_median_age</th>\n",
       "      <th>total_rooms</th>\n",
       "      <th>total_bedrooms</th>\n",
       "      <th>population</th>\n",
       "      <th>households</th>\n",
       "      <th>median_income</th>\n",
       "      <th>median_house_value</th>\n",
       "      <th>ocean_proximity</th>\n",
       "      <th>bedrooms_per_room</th>\n",
       "      <th>rooms_per_household</th>\n",
       "      <th>population_per_household</th>\n",
       "      <th>above_average</th>\n",
       "    </tr>\n",
       "  </thead>\n",
       "  <tbody>\n",
       "    <tr>\n",
       "      <th>0</th>\n",
       "      <td>37.88</td>\n",
       "      <td>-122.23</td>\n",
       "      <td>41.0</td>\n",
       "      <td>880.0</td>\n",
       "      <td>129.0</td>\n",
       "      <td>322.0</td>\n",
       "      <td>126.0</td>\n",
       "      <td>8.3252</td>\n",
       "      <td>452600.0</td>\n",
       "      <td>NEAR BAY</td>\n",
       "      <td>0.146591</td>\n",
       "      <td>6.984127</td>\n",
       "      <td>2.555556</td>\n",
       "      <td>1</td>\n",
       "    </tr>\n",
       "    <tr>\n",
       "      <th>1</th>\n",
       "      <td>37.86</td>\n",
       "      <td>-122.22</td>\n",
       "      <td>21.0</td>\n",
       "      <td>7099.0</td>\n",
       "      <td>1106.0</td>\n",
       "      <td>2401.0</td>\n",
       "      <td>1138.0</td>\n",
       "      <td>8.3014</td>\n",
       "      <td>358500.0</td>\n",
       "      <td>NEAR BAY</td>\n",
       "      <td>0.155797</td>\n",
       "      <td>6.238137</td>\n",
       "      <td>2.109842</td>\n",
       "      <td>1</td>\n",
       "    </tr>\n",
       "    <tr>\n",
       "      <th>2</th>\n",
       "      <td>37.85</td>\n",
       "      <td>-122.24</td>\n",
       "      <td>52.0</td>\n",
       "      <td>1467.0</td>\n",
       "      <td>190.0</td>\n",
       "      <td>496.0</td>\n",
       "      <td>177.0</td>\n",
       "      <td>7.2574</td>\n",
       "      <td>352100.0</td>\n",
       "      <td>NEAR BAY</td>\n",
       "      <td>0.129516</td>\n",
       "      <td>8.288136</td>\n",
       "      <td>2.802260</td>\n",
       "      <td>1</td>\n",
       "    </tr>\n",
       "    <tr>\n",
       "      <th>3</th>\n",
       "      <td>37.85</td>\n",
       "      <td>-122.25</td>\n",
       "      <td>52.0</td>\n",
       "      <td>1274.0</td>\n",
       "      <td>235.0</td>\n",
       "      <td>558.0</td>\n",
       "      <td>219.0</td>\n",
       "      <td>5.6431</td>\n",
       "      <td>341300.0</td>\n",
       "      <td>NEAR BAY</td>\n",
       "      <td>0.184458</td>\n",
       "      <td>5.817352</td>\n",
       "      <td>2.547945</td>\n",
       "      <td>1</td>\n",
       "    </tr>\n",
       "    <tr>\n",
       "      <th>4</th>\n",
       "      <td>37.85</td>\n",
       "      <td>-122.25</td>\n",
       "      <td>52.0</td>\n",
       "      <td>1627.0</td>\n",
       "      <td>280.0</td>\n",
       "      <td>565.0</td>\n",
       "      <td>259.0</td>\n",
       "      <td>3.8462</td>\n",
       "      <td>342200.0</td>\n",
       "      <td>NEAR BAY</td>\n",
       "      <td>0.172096</td>\n",
       "      <td>6.281853</td>\n",
       "      <td>2.181467</td>\n",
       "      <td>1</td>\n",
       "    </tr>\n",
       "  </tbody>\n",
       "</table>\n",
       "</div>"
      ],
      "text/plain": [
       "   latitude  longitude  housing_median_age  total_rooms  total_bedrooms  \\\n",
       "0     37.88    -122.23                41.0        880.0           129.0   \n",
       "1     37.86    -122.22                21.0       7099.0          1106.0   \n",
       "2     37.85    -122.24                52.0       1467.0           190.0   \n",
       "3     37.85    -122.25                52.0       1274.0           235.0   \n",
       "4     37.85    -122.25                52.0       1627.0           280.0   \n",
       "\n",
       "   population  households  median_income  median_house_value ocean_proximity  \\\n",
       "0       322.0       126.0         8.3252            452600.0        NEAR BAY   \n",
       "1      2401.0      1138.0         8.3014            358500.0        NEAR BAY   \n",
       "2       496.0       177.0         7.2574            352100.0        NEAR BAY   \n",
       "3       558.0       219.0         5.6431            341300.0        NEAR BAY   \n",
       "4       565.0       259.0         3.8462            342200.0        NEAR BAY   \n",
       "\n",
       "   bedrooms_per_room  rooms_per_household  population_per_household  \\\n",
       "0           0.146591             6.984127                  2.555556   \n",
       "1           0.155797             6.238137                  2.109842   \n",
       "2           0.129516             8.288136                  2.802260   \n",
       "3           0.184458             5.817352                  2.547945   \n",
       "4           0.172096             6.281853                  2.181467   \n",
       "\n",
       "   above_average  \n",
       "0              1  \n",
       "1              1  \n",
       "2              1  \n",
       "3              1  \n",
       "4              1  "
      ]
     },
     "execution_count": 205,
     "metadata": {},
     "output_type": "execute_result"
    }
   ],
   "source": [
    "df.head()"
   ]
  },
  {
   "cell_type": "markdown",
   "id": "14e2313c",
   "metadata": {},
   "source": [
    "#### Calculate the mutual information score with the (binarized) price for the categorical variable ####that we have. Use the training set only.\n",
    "##### What is the value of mutual information?\n",
    "##### Round it to 2 decimal digits using round(score, 2)"
   ]
  },
  {
   "cell_type": "code",
   "execution_count": 249,
   "id": "2e4e2d30",
   "metadata": {},
   "outputs": [],
   "source": [
    "from sklearn.metrics import mutual_info_score"
   ]
  },
  {
   "cell_type": "code",
   "execution_count": 250,
   "id": "99a1f2df",
   "metadata": {},
   "outputs": [],
   "source": [
    "def mutual_score(series):\n",
    "    return mutual_info_score(series, df.above_average)"
   ]
  },
  {
   "cell_type": "code",
   "execution_count": 251,
   "id": "791e0dd1",
   "metadata": {},
   "outputs": [
    {
     "data": {
      "text/plain": [
       "0.102"
      ]
     },
     "execution_count": 251,
     "metadata": {},
     "output_type": "execute_result"
    }
   ],
   "source": [
    "#0.1\n",
    "round(mutual_score(df.ocean_proximity), 3)"
   ]
  },
  {
   "cell_type": "markdown",
   "id": "ce384d84",
   "metadata": {},
   "source": [
    "#### Transform the categorical and numerical columns"
   ]
  },
  {
   "cell_type": "code",
   "execution_count": 252,
   "id": "cb22a07c",
   "metadata": {},
   "outputs": [],
   "source": [
    "from sklearn.feature_extraction import DictVectorizer"
   ]
  },
  {
   "cell_type": "code",
   "execution_count": 253,
   "id": "bcd23b85",
   "metadata": {},
   "outputs": [],
   "source": [
    "dv = DictVectorizer(sparse=False)"
   ]
  },
  {
   "cell_type": "code",
   "execution_count": 254,
   "id": "86854eb5",
   "metadata": {},
   "outputs": [
    {
     "data": {
      "text/plain": [
       "{'latitude': 36.74,\n",
       " 'longitude': -119.85,\n",
       " 'housing_median_age': 35.0,\n",
       " 'total_rooms': 1191.0,\n",
       " 'total_bedrooms': 190.0,\n",
       " 'population': 537.0,\n",
       " 'households': 182.0,\n",
       " 'median_income': 3.5375,\n",
       " 'ocean_proximity': 'INLAND',\n",
       " 'bedrooms_per_room': 0.15952980688497062,\n",
       " 'rooms_per_household': 6.543956043956044,\n",
       " 'population_per_household': 2.9505494505494507}"
      ]
     },
     "execution_count": 254,
     "metadata": {},
     "output_type": "execute_result"
    }
   ],
   "source": [
    "X_train_dict = X_train.to_dict(orient='records')\n",
    "X_val_dict = X_val.to_dict(orient='records')\n",
    "X_val_dict[0]"
   ]
  },
  {
   "cell_type": "code",
   "execution_count": 255,
   "id": "0c29f016",
   "metadata": {},
   "outputs": [],
   "source": [
    "X_train_dv = dv.fit_transform(X_train_dict)\n",
    "X_val_dv = dv.transform(X_val_dict)"
   ]
  },
  {
   "cell_type": "code",
   "execution_count": 256,
   "id": "b43c0e73",
   "metadata": {},
   "outputs": [
    {
     "data": {
      "text/plain": [
       "(4128, 12384)"
      ]
     },
     "execution_count": 256,
     "metadata": {},
     "output_type": "execute_result"
    }
   ],
   "source": [
    "len(X_val_dv), len(X_train_dv)"
   ]
  },
  {
   "cell_type": "markdown",
   "id": "50bd0083",
   "metadata": {},
   "source": [
    "### Lets train the model"
   ]
  },
  {
   "cell_type": "code",
   "execution_count": 257,
   "id": "5cb31909",
   "metadata": {},
   "outputs": [],
   "source": [
    "from sklearn.linear_model import LogisticRegression"
   ]
  },
  {
   "cell_type": "code",
   "execution_count": 258,
   "id": "bf18d8ff",
   "metadata": {},
   "outputs": [],
   "source": [
    "model = LogisticRegression(solver=\"liblinear\", C=1.0, max_iter=1000, random_state=42)"
   ]
  },
  {
   "cell_type": "code",
   "execution_count": 259,
   "id": "01fb5f08",
   "metadata": {},
   "outputs": [
    {
     "data": {
      "text/plain": [
       "LogisticRegression(max_iter=1000, random_state=42, solver='liblinear')"
      ]
     },
     "execution_count": 259,
     "metadata": {},
     "output_type": "execute_result"
    }
   ],
   "source": [
    "model.fit(X_train_dv, y_train)"
   ]
  },
  {
   "cell_type": "code",
   "execution_count": 260,
   "id": "f40fa03b",
   "metadata": {},
   "outputs": [
    {
     "data": {
      "text/plain": [
       "-0.06226206219069978"
      ]
     },
     "execution_count": 260,
     "metadata": {},
     "output_type": "execute_result"
    }
   ],
   "source": [
    "model.intercept_[0]"
   ]
  },
  {
   "cell_type": "code",
   "execution_count": 262,
   "id": "6d12e857",
   "metadata": {},
   "outputs": [
    {
     "data": {
      "text/plain": [
       "array([ 0.113,  0.004,  0.036,  0.103,  0.083,  1.196,  0.452, -1.599,\n",
       "        0.012,  0.309,  0.763, -0.002,  0.01 , -0.014,  0.002, -0.   ])"
      ]
     },
     "execution_count": 262,
     "metadata": {},
     "output_type": "execute_result"
    }
   ],
   "source": [
    "model.coef_[0].round(3)"
   ]
  },
  {
   "cell_type": "markdown",
   "id": "482c0d35",
   "metadata": {},
   "source": [
    "##### let find the predictions probability"
   ]
  },
  {
   "cell_type": "code",
   "execution_count": 263,
   "id": "12fb81e9",
   "metadata": {},
   "outputs": [
    {
     "data": {
      "text/plain": [
       "array([0.08754291, 0.15993596, 0.95208568, ..., 0.95879498, 0.84936804,\n",
       "       0.47231751])"
      ]
     },
     "execution_count": 263,
     "metadata": {},
     "output_type": "execute_result"
    }
   ],
   "source": [
    "y_pred = model.predict_proba(X_val_dv)[:, 1]\n",
    "y_pred"
   ]
  },
  {
   "cell_type": "code",
   "execution_count": 267,
   "id": "09093512",
   "metadata": {},
   "outputs": [],
   "source": [
    "from sklearn.metrics import roc_auc_score"
   ]
  },
  {
   "cell_type": "code",
   "execution_count": 266,
   "id": "2a3fccba",
   "metadata": {},
   "outputs": [
    {
     "data": {
      "text/plain": [
       "{'bedrooms_per_room': 0.113,\n",
       " 'households': 0.004,\n",
       " 'housing_median_age': 0.036,\n",
       " 'latitude': 0.103,\n",
       " 'longitude': 0.083,\n",
       " 'median_income': 1.196,\n",
       " 'ocean_proximity=<1H OCEAN': 0.452,\n",
       " 'ocean_proximity=INLAND': -1.599,\n",
       " 'ocean_proximity=ISLAND': 0.012,\n",
       " 'ocean_proximity=NEAR BAY': 0.309,\n",
       " 'ocean_proximity=NEAR OCEAN': 0.763,\n",
       " 'population': -0.002,\n",
       " 'population_per_household': 0.01,\n",
       " 'rooms_per_household': -0.014,\n",
       " 'total_bedrooms': 0.002,\n",
       " 'total_rooms': -0.0}"
      ]
     },
     "execution_count": 266,
     "metadata": {},
     "output_type": "execute_result"
    }
   ],
   "source": [
    "dict(zip(dv.get_feature_names(), model.coef_[0].round(3)))"
   ]
  },
  {
   "cell_type": "markdown",
   "id": "1b98bccf",
   "metadata": {},
   "source": [
    "##### Question 4 ===> accuracy is 91%"
   ]
  },
  {
   "cell_type": "code",
   "execution_count": 271,
   "id": "4bde0676",
   "metadata": {},
   "outputs": [
    {
     "data": {
      "text/plain": [
       "0.91"
      ]
     },
     "execution_count": 271,
     "metadata": {},
     "output_type": "execute_result"
    }
   ],
   "source": [
    "round(roc_auc_score(y_val, y_pred), 2)"
   ]
  },
  {
   "cell_type": "code",
   "execution_count": 290,
   "id": "0dafc6a2",
   "metadata": {},
   "outputs": [
    {
     "data": {
      "text/plain": [
       "<AxesSubplot:xlabel='median_house_value', ylabel='Count'>"
      ]
     },
     "execution_count": 290,
     "metadata": {},
     "output_type": "execute_result"
    },
    {
     "data": {
      "image/png": "[encoded data removed]",
      "text/plain": [
       "<Figure size 432x288 with 1 Axes>"
      ]
     },
     "metadata": {
      "needs_background": "light"
     },
     "output_type": "display_data"
    }
   ],
   "source": [
    "sns.histplot(df.median_house_value)"
   ]
  },
  {
   "cell_type": "code",
   "execution_count": 299,
   "id": "3caea2d8",
   "metadata": {},
   "outputs": [
    {
     "data": {
      "text/html": [
       "<div>\n",
       "<style scoped>\n",
       "    .dataframe tbody tr th:only-of-type {\n",
       "        vertical-align: middle;\n",
       "    }\n",
       "\n",
       "    .dataframe tbody tr th {\n",
       "        vertical-align: top;\n",
       "    }\n",
       "\n",
       "    .dataframe thead th {\n",
       "        text-align: right;\n",
       "    }\n",
       "</style>\n",
       "<table border=\"1\" class=\"dataframe\">\n",
       "  <thead>\n",
       "    <tr style=\"text-align: right;\">\n",
       "      <th></th>\n",
       "      <th>median_income</th>\n",
       "      <th>total_rooms</th>\n",
       "      <th>bedrooms_per_room</th>\n",
       "      <th>rooms_per_household</th>\n",
       "    </tr>\n",
       "  </thead>\n",
       "  <tbody>\n",
       "    <tr>\n",
       "      <th>0</th>\n",
       "      <td>8.3252</td>\n",
       "      <td>880.0</td>\n",
       "      <td>0.146591</td>\n",
       "      <td>6.984127</td>\n",
       "    </tr>\n",
       "    <tr>\n",
       "      <th>1</th>\n",
       "      <td>8.3014</td>\n",
       "      <td>7099.0</td>\n",
       "      <td>0.155797</td>\n",
       "      <td>6.238137</td>\n",
       "    </tr>\n",
       "    <tr>\n",
       "      <th>2</th>\n",
       "      <td>7.2574</td>\n",
       "      <td>1467.0</td>\n",
       "      <td>0.129516</td>\n",
       "      <td>8.288136</td>\n",
       "    </tr>\n",
       "    <tr>\n",
       "      <th>3</th>\n",
       "      <td>5.6431</td>\n",
       "      <td>1274.0</td>\n",
       "      <td>0.184458</td>\n",
       "      <td>5.817352</td>\n",
       "    </tr>\n",
       "    <tr>\n",
       "      <th>4</th>\n",
       "      <td>3.8462</td>\n",
       "      <td>1627.0</td>\n",
       "      <td>0.172096</td>\n",
       "      <td>6.281853</td>\n",
       "    </tr>\n",
       "    <tr>\n",
       "      <th>...</th>\n",
       "      <td>...</td>\n",
       "      <td>...</td>\n",
       "      <td>...</td>\n",
       "      <td>...</td>\n",
       "    </tr>\n",
       "    <tr>\n",
       "      <th>20635</th>\n",
       "      <td>1.5603</td>\n",
       "      <td>1665.0</td>\n",
       "      <td>0.224625</td>\n",
       "      <td>5.045455</td>\n",
       "    </tr>\n",
       "    <tr>\n",
       "      <th>20636</th>\n",
       "      <td>2.5568</td>\n",
       "      <td>697.0</td>\n",
       "      <td>0.215208</td>\n",
       "      <td>6.114035</td>\n",
       "    </tr>\n",
       "    <tr>\n",
       "      <th>20637</th>\n",
       "      <td>1.7000</td>\n",
       "      <td>2254.0</td>\n",
       "      <td>0.215173</td>\n",
       "      <td>5.205543</td>\n",
       "    </tr>\n",
       "    <tr>\n",
       "      <th>20638</th>\n",
       "      <td>1.8672</td>\n",
       "      <td>1860.0</td>\n",
       "      <td>0.219892</td>\n",
       "      <td>5.329513</td>\n",
       "    </tr>\n",
       "    <tr>\n",
       "      <th>20639</th>\n",
       "      <td>2.3886</td>\n",
       "      <td>2785.0</td>\n",
       "      <td>0.221185</td>\n",
       "      <td>5.254717</td>\n",
       "    </tr>\n",
       "  </tbody>\n",
       "</table>\n",
       "<p>20640 rows × 4 columns</p>\n",
       "</div>"
      ],
      "text/plain": [
       "       median_income  total_rooms  bedrooms_per_room  rooms_per_household\n",
       "0             8.3252        880.0           0.146591             6.984127\n",
       "1             8.3014       7099.0           0.155797             6.238137\n",
       "2             7.2574       1467.0           0.129516             8.288136\n",
       "3             5.6431       1274.0           0.184458             5.817352\n",
       "4             3.8462       1627.0           0.172096             6.281853\n",
       "...              ...          ...                ...                  ...\n",
       "20635         1.5603       1665.0           0.224625             5.045455\n",
       "20636         2.5568        697.0           0.215208             6.114035\n",
       "20637         1.7000       2254.0           0.215173             5.205543\n",
       "20638         1.8672       1860.0           0.219892             5.329513\n",
       "20639         2.3886       2785.0           0.221185             5.254717\n",
       "\n",
       "[20640 rows x 4 columns]"
      ]
     },
     "execution_count": 299,
     "metadata": {},
     "output_type": "execute_result"
    }
   ],
   "source": [
    "#least features\n",
    "#df.corrwith(df.above_average).sort_values(ascending=False)\n",
    "# top 5 features is [median_income\n",
    "df_top4 = df[[\"median_income\", \"total_rooms\", \"bedrooms_per_room\", \"rooms_per_household\"]]\n",
    "df_top4"
   ]
  },
  {
   "cell_type": "code",
   "execution_count": 296,
   "id": "42f00abb",
   "metadata": {},
   "outputs": [
    {
     "data": {
      "text/plain": [
       "above_average               1.000000\n",
       "median_house_value          0.804353\n",
       "median_income               0.541778\n",
       "total_rooms                 0.128782\n",
       "rooms_per_household         0.112104\n",
       "housing_median_age          0.080069\n",
       "households                  0.074778\n",
       "total_bedrooms              0.056209\n",
       "population                 -0.014898\n",
       "population_per_household   -0.023354\n",
       "longitude                  -0.072633\n",
       "latitude                   -0.098810\n",
       "bedrooms_per_room          -0.211781\n",
       "dtype: float64"
      ]
     },
     "execution_count": 296,
     "metadata": {},
     "output_type": "execute_result"
    }
   ],
   "source": [
    "df.corrwith(df.above_average).sort_values(ascending=False)"
   ]
  },
  {
   "cell_type": "code",
   "execution_count": 310,
   "id": "db118093",
   "metadata": {},
   "outputs": [
    {
     "data": {
      "text/plain": [
       "{'bedrooms_per_room': 0.1134,\n",
       " 'households': 0.004,\n",
       " 'housing_median_age': 0.0357,\n",
       " 'latitude': 0.1026,\n",
       " 'longitude': 0.0827,\n",
       " 'median_income': 1.1964,\n",
       " 'ocean_proximity=<1H OCEAN': 0.4521,\n",
       " 'ocean_proximity=INLAND': -1.5985,\n",
       " 'ocean_proximity=ISLAND': 0.0119,\n",
       " 'ocean_proximity=NEAR BAY': 0.3092,\n",
       " 'ocean_proximity=NEAR OCEAN': 0.763,\n",
       " 'population': -0.0016,\n",
       " 'population_per_household': 0.0105,\n",
       " 'rooms_per_household': -0.0137,\n",
       " 'total_bedrooms': 0.0018,\n",
       " 'total_rooms': -0.0002}"
      ]
     },
     "execution_count": 310,
     "metadata": {},
     "output_type": "execute_result"
    }
   ],
   "source": [
    "#### find importances according to model coeffecint \n",
    "dict(zip(dv.get_feature_names(), model.coef_[0].round(4)))\n",
    "\n",
    "#least  least useful feature"
   ]
  },
  {
   "cell_type": "code",
   "execution_count": 313,
   "id": "6cd218a7",
   "metadata": {},
   "outputs": [],
   "source": [
    "least = ['population', 'total_bedrooms', 'total_rooms', 'households']"
   ]
  },
  {
   "cell_type": "code",
   "execution_count": 304,
   "id": "5c7dae4e",
   "metadata": {},
   "outputs": [],
   "source": [
    "from sklearn.preprocessing import StandardScaler"
   ]
  },
  {
   "cell_type": "code",
   "execution_count": 315,
   "id": "4a744d71",
   "metadata": {},
   "outputs": [],
   "source": [
    "def train(df_train, y_train, C=1.0):\n",
    "    dicts = df_train.to_dict(orient='records')\n",
    "\n",
    "    dv = DictVectorizer(sparse=False)\n",
    "    X_train = dv.fit_transform(dicts)\n",
    "\n",
    "    model = LogisticRegression(C=C, max_iter=1000)\n",
    "    model.fit(X_train, y_train)\n",
    "    \n",
    "    return dv, model"
   ]
  },
  {
   "cell_type": "code",
   "execution_count": 318,
   "id": "297a1daf",
   "metadata": {},
   "outputs": [],
   "source": [
    "dv, model = train(X_train[least], y_train, C=1.0)"
   ]
  },
  {
   "cell_type": "code",
   "execution_count": 320,
   "id": "c38fddf2",
   "metadata": {},
   "outputs": [],
   "source": [
    "def predict(df, dv, model):\n",
    "    dicts = df.to_dict(orient='records')\n",
    "\n",
    "    X = dv.transform(dicts)\n",
    "    y_pred = model.predict_proba(X)[:, 1]\n",
    "\n",
    "    return y_pred"
   ]
  },
  {
   "cell_type": "code",
   "execution_count": 326,
   "id": "57bb73f2",
   "metadata": {},
   "outputs": [],
   "source": [
    "y_pred_least = predict(X_val[least], dv, model)"
   ]
  },
  {
   "cell_type": "markdown",
   "id": "04f66f30",
   "metadata": {},
   "source": [
    "#### predictions with least feature importance is 76% accuracy"
   ]
  },
  {
   "cell_type": "code",
   "execution_count": 327,
   "id": "3dcfe82c",
   "metadata": {},
   "outputs": [
    {
     "data": {
      "text/plain": [
       "0.76"
      ]
     },
     "execution_count": 327,
     "metadata": {},
     "output_type": "execute_result"
    }
   ],
   "source": [
    "round(roc_auc_score(y_val, y_pred_least), 2)"
   ]
  },
  {
   "cell_type": "code",
   "execution_count": 336,
   "id": "7985d785",
   "metadata": {},
   "outputs": [],
   "source": [
    "X_train_without_least = X_train.loc[:, ~X_train.columns.isin(['population', 'total_bedrooms', 'total_rooms', 'households'])]\n",
    "X_val_without_least = X_val.loc[:, ~X_val.columns.isin(['population', 'total_bedrooms', 'total_rooms', 'households'])]"
   ]
  },
  {
   "cell_type": "markdown",
   "id": "4c21acd2",
   "metadata": {},
   "source": [
    "#### Lets train the model without these least importance features"
   ]
  },
  {
   "cell_type": "code",
   "execution_count": 337,
   "id": "798be484",
   "metadata": {},
   "outputs": [
    {
     "name": "stderr",
     "output_type": "stream",
     "text": [
      "C:\\Users\\LENOVO\\anaconda3\\lib\\site-packages\\sklearn\\linear_model\\_logistic.py:763: ConvergenceWarning: lbfgs failed to converge (status=1):\n",
      "STOP: TOTAL NO. of ITERATIONS REACHED LIMIT.\n",
      "\n",
      "Increase the number of iterations (max_iter) or scale the data as shown in:\n",
      "    https://scikit-learn.org/stable/modules/preprocessing.html\n",
      "Please also refer to the documentation for alternative solver options:\n",
      "    https://scikit-learn.org/stable/modules/linear_model.html#logistic-regression\n",
      "  n_iter_i = _check_optimize_result(\n"
     ]
    }
   ],
   "source": [
    "dv, model = train(X_train_without_least, y_train, C=1.0)"
   ]
  },
  {
   "cell_type": "code",
   "execution_count": 338,
   "id": "1e280a01",
   "metadata": {},
   "outputs": [],
   "source": [
    "y_pred_without_least = predict(X_val_without_least, dv, model)"
   ]
  },
  {
   "cell_type": "markdown",
   "id": "a396c217",
   "metadata": {},
   "source": [
    "#### without least important features we got 92% :)"
   ]
  },
  {
   "cell_type": "code",
   "execution_count": 339,
   "id": "b53ad569",
   "metadata": {},
   "outputs": [
    {
     "data": {
      "text/plain": [
       "0.92"
      ]
     },
     "execution_count": 339,
     "metadata": {},
     "output_type": "execute_result"
    }
   ],
   "source": [
    "round(roc_auc_score(y_val, y_pred_without_least), 2)"
   ]
  },
  {
   "cell_type": "code",
   "execution_count": 342,
   "id": "b90ae630",
   "metadata": {},
   "outputs": [
    {
     "data": {
      "text/plain": [
       "array([ 6.443,  0.03 , -1.178, -1.243,  1.194, -0.254, -0.938, -3.151,\n",
       "       -0.896, -0.397, -0.435,  0.109])"
      ]
     },
     "execution_count": 342,
     "metadata": {},
     "output_type": "execute_result"
    }
   ],
   "source": [
    "w = model.coef_[0]\n",
    "w.round(3)"
   ]
  },
  {
   "cell_type": "code",
   "execution_count": 343,
   "id": "c112767d",
   "metadata": {},
   "outputs": [
    {
     "data": {
      "text/plain": [
       "{'bedrooms_per_room': 6.443,\n",
       " 'housing_median_age': 0.03,\n",
       " 'latitude': -1.178,\n",
       " 'longitude': -1.243,\n",
       " 'median_income': 1.194,\n",
       " 'ocean_proximity=<1H OCEAN': -0.254,\n",
       " 'ocean_proximity=INLAND': -0.938,\n",
       " 'ocean_proximity=ISLAND': -3.151,\n",
       " 'ocean_proximity=NEAR BAY': -0.896,\n",
       " 'ocean_proximity=NEAR OCEAN': -0.397,\n",
       " 'population_per_household': -0.435,\n",
       " 'rooms_per_household': 0.109}"
      ]
     },
     "execution_count": 343,
     "metadata": {},
     "output_type": "execute_result"
    }
   ],
   "source": [
    "dict(zip(dv.get_feature_names(), w.round(3)))"
   ]
  },
  {
   "cell_type": "markdown",
   "id": "da9d7033",
   "metadata": {},
   "source": [
    "### question 6"
   ]
  },
  {
   "cell_type": "code",
   "execution_count": 344,
   "id": "de125aa3",
   "metadata": {},
   "outputs": [],
   "source": [
    "from sklearn.linear_model import Ridge"
   ]
  },
  {
   "cell_type": "code",
   "execution_count": 353,
   "id": "2aa1c878",
   "metadata": {},
   "outputs": [
    {
     "data": {
      "text/html": [
       "<div>\n",
       "<style scoped>\n",
       "    .dataframe tbody tr th:only-of-type {\n",
       "        vertical-align: middle;\n",
       "    }\n",
       "\n",
       "    .dataframe tbody tr th {\n",
       "        vertical-align: top;\n",
       "    }\n",
       "\n",
       "    .dataframe thead th {\n",
       "        text-align: right;\n",
       "    }\n",
       "</style>\n",
       "<table border=\"1\" class=\"dataframe\">\n",
       "  <thead>\n",
       "    <tr style=\"text-align: right;\">\n",
       "      <th></th>\n",
       "      <th>latitude</th>\n",
       "      <th>longitude</th>\n",
       "      <th>housing_median_age</th>\n",
       "      <th>total_rooms</th>\n",
       "      <th>total_bedrooms</th>\n",
       "      <th>population</th>\n",
       "      <th>households</th>\n",
       "      <th>median_income</th>\n",
       "      <th>median_house_value</th>\n",
       "      <th>ocean_proximity</th>\n",
       "      <th>bedrooms_per_room</th>\n",
       "      <th>rooms_per_household</th>\n",
       "      <th>population_per_household</th>\n",
       "      <th>above_average</th>\n",
       "    </tr>\n",
       "  </thead>\n",
       "  <tbody>\n",
       "    <tr>\n",
       "      <th>0</th>\n",
       "      <td>37.88</td>\n",
       "      <td>-122.23</td>\n",
       "      <td>41.0</td>\n",
       "      <td>880.0</td>\n",
       "      <td>129.0</td>\n",
       "      <td>322.0</td>\n",
       "      <td>126.0</td>\n",
       "      <td>8.3252</td>\n",
       "      <td>452600.0</td>\n",
       "      <td>NEAR BAY</td>\n",
       "      <td>0.146591</td>\n",
       "      <td>6.984127</td>\n",
       "      <td>2.555556</td>\n",
       "      <td>1</td>\n",
       "    </tr>\n",
       "    <tr>\n",
       "      <th>1</th>\n",
       "      <td>37.86</td>\n",
       "      <td>-122.22</td>\n",
       "      <td>21.0</td>\n",
       "      <td>7099.0</td>\n",
       "      <td>1106.0</td>\n",
       "      <td>2401.0</td>\n",
       "      <td>1138.0</td>\n",
       "      <td>8.3014</td>\n",
       "      <td>358500.0</td>\n",
       "      <td>NEAR BAY</td>\n",
       "      <td>0.155797</td>\n",
       "      <td>6.238137</td>\n",
       "      <td>2.109842</td>\n",
       "      <td>1</td>\n",
       "    </tr>\n",
       "    <tr>\n",
       "      <th>2</th>\n",
       "      <td>37.85</td>\n",
       "      <td>-122.24</td>\n",
       "      <td>52.0</td>\n",
       "      <td>1467.0</td>\n",
       "      <td>190.0</td>\n",
       "      <td>496.0</td>\n",
       "      <td>177.0</td>\n",
       "      <td>7.2574</td>\n",
       "      <td>352100.0</td>\n",
       "      <td>NEAR BAY</td>\n",
       "      <td>0.129516</td>\n",
       "      <td>8.288136</td>\n",
       "      <td>2.802260</td>\n",
       "      <td>1</td>\n",
       "    </tr>\n",
       "    <tr>\n",
       "      <th>3</th>\n",
       "      <td>37.85</td>\n",
       "      <td>-122.25</td>\n",
       "      <td>52.0</td>\n",
       "      <td>1274.0</td>\n",
       "      <td>235.0</td>\n",
       "      <td>558.0</td>\n",
       "      <td>219.0</td>\n",
       "      <td>5.6431</td>\n",
       "      <td>341300.0</td>\n",
       "      <td>NEAR BAY</td>\n",
       "      <td>0.184458</td>\n",
       "      <td>5.817352</td>\n",
       "      <td>2.547945</td>\n",
       "      <td>1</td>\n",
       "    </tr>\n",
       "    <tr>\n",
       "      <th>4</th>\n",
       "      <td>37.85</td>\n",
       "      <td>-122.25</td>\n",
       "      <td>52.0</td>\n",
       "      <td>1627.0</td>\n",
       "      <td>280.0</td>\n",
       "      <td>565.0</td>\n",
       "      <td>259.0</td>\n",
       "      <td>3.8462</td>\n",
       "      <td>342200.0</td>\n",
       "      <td>NEAR BAY</td>\n",
       "      <td>0.172096</td>\n",
       "      <td>6.281853</td>\n",
       "      <td>2.181467</td>\n",
       "      <td>1</td>\n",
       "    </tr>\n",
       "  </tbody>\n",
       "</table>\n",
       "</div>"
      ],
      "text/plain": [
       "   latitude  longitude  housing_median_age  total_rooms  total_bedrooms  \\\n",
       "0     37.88    -122.23                41.0        880.0           129.0   \n",
       "1     37.86    -122.22                21.0       7099.0          1106.0   \n",
       "2     37.85    -122.24                52.0       1467.0           190.0   \n",
       "3     37.85    -122.25                52.0       1274.0           235.0   \n",
       "4     37.85    -122.25                52.0       1627.0           280.0   \n",
       "\n",
       "   population  households  median_income  median_house_value ocean_proximity  \\\n",
       "0       322.0       126.0         8.3252            452600.0        NEAR BAY   \n",
       "1      2401.0      1138.0         8.3014            358500.0        NEAR BAY   \n",
       "2       496.0       177.0         7.2574            352100.0        NEAR BAY   \n",
       "3       558.0       219.0         5.6431            341300.0        NEAR BAY   \n",
       "4       565.0       259.0         3.8462            342200.0        NEAR BAY   \n",
       "\n",
       "   bedrooms_per_room  rooms_per_household  population_per_household  \\\n",
       "0           0.146591             6.984127                  2.555556   \n",
       "1           0.155797             6.238137                  2.109842   \n",
       "2           0.129516             8.288136                  2.802260   \n",
       "3           0.184458             5.817352                  2.547945   \n",
       "4           0.172096             6.281853                  2.181467   \n",
       "\n",
       "   above_average  \n",
       "0              1  \n",
       "1              1  \n",
       "2              1  \n",
       "3              1  \n",
       "4              1  "
      ]
     },
     "execution_count": 353,
     "metadata": {},
     "output_type": "execute_result"
    }
   ],
   "source": [
    "df.head()"
   ]
  },
  {
   "cell_type": "code",
   "execution_count": 354,
   "id": "baad1781",
   "metadata": {},
   "outputs": [],
   "source": [
    "# prepare X and y and then split\n",
    "X_train_full = df.loc[:, ~df.columns.isin(['median_house_value', 'above_average'])]\n",
    "# apply log power to y values\n",
    "y_train_full = np.log1p(df.median_house_value.values)"
   ]
  },
  {
   "cell_type": "code",
   "execution_count": 357,
   "id": "4e80a856",
   "metadata": {},
   "outputs": [],
   "source": [
    "X_train, X_test, y_train, y_test = train_test_split(X_train_full, y_train_full, test_size=0.2, random_state=42)\n",
    "X_train, X_val, y_train, y_val = train_test_split(X_train, y_train, test_size=0.25, random_state=42) # 0.25 x 0.8 = 0.2"
   ]
  },
  {
   "cell_type": "code",
   "execution_count": 358,
   "id": "1333c1d1",
   "metadata": {},
   "outputs": [
    {
     "data": {
      "text/plain": [
       "{'latitude': 36.74,\n",
       " 'longitude': -119.85,\n",
       " 'housing_median_age': 35.0,\n",
       " 'total_rooms': 1191.0,\n",
       " 'total_bedrooms': 190.0,\n",
       " 'population': 537.0,\n",
       " 'households': 182.0,\n",
       " 'median_income': 3.5375,\n",
       " 'ocean_proximity': 'INLAND',\n",
       " 'bedrooms_per_room': 0.15952980688497062,\n",
       " 'rooms_per_household': 6.543956043956044,\n",
       " 'population_per_household': 2.9505494505494507}"
      ]
     },
     "execution_count": 358,
     "metadata": {},
     "output_type": "execute_result"
    }
   ],
   "source": [
    "X_train_dict = X_train.to_dict(orient='records')\n",
    "X_val_dict = X_val.to_dict(orient='records')\n",
    "X_val_dict[0]"
   ]
  },
  {
   "cell_type": "code",
   "execution_count": 359,
   "id": "c36db9b0",
   "metadata": {},
   "outputs": [],
   "source": [
    "X_train_dv = dv.fit_transform(X_train_dict)\n",
    "X_val_dv = dv.transform(X_val_dict)"
   ]
  },
  {
   "cell_type": "code",
   "execution_count": 361,
   "id": "66a089d5",
   "metadata": {},
   "outputs": [],
   "source": [
    "from sklearn.metrics import mean_squared_error"
   ]
  },
  {
   "cell_type": "code",
   "execution_count": 366,
   "id": "0d7eec75",
   "metadata": {},
   "outputs": [
    {
     "name": "stdout",
     "output_type": "stream",
     "text": [
      "Root mean squared error for alpha(0):  0.524\n",
      "Root mean squared error for alpha(0.01):  0.524\n",
      "Root mean squared error for alpha(0.1):  0.524\n",
      "Root mean squared error for alpha(1):  0.524\n",
      "Root mean squared error for alpha(10):  0.524\n"
     ]
    }
   ],
   "source": [
    "alpha = [0, 0.01, 0.1, 1, 10]\n",
    "for a in alpha:\n",
    "    model = Ridge(a, solver=\"sag\", random_state=42)\n",
    "    model.fit(X_train_dv, y_train)\n",
    "    y_pred_linear = model.predict(X_val_dv)\n",
    "    rmse = mean_squared_error(y_val, y_pred_linear, squared=False)\n",
    "    print(\"Root mean squared error for alpha(%s): \" % a, round(rmse, 3))"
   ]
  },
  {
   "cell_type": "code",
   "execution_count": 367,
   "id": "bc16161f",
   "metadata": {},
   "outputs": [],
   "source": [
    "#all Alpha's got the same result!"
   ]
  },
  {
   "cell_type": "code",
   "execution_count": null,
   "id": "696f72c6",
   "metadata": {},
   "outputs": [],
   "source": []
  }
 ],
 "metadata": {
  "kernelspec": {
   "display_name": "Python 3 (ipykernel)",
   "language": "python",
   "name": "python3"
  },
  "language_info": {
   "codemirror_mode": {
    "name": "ipython",
    "version": 3
   },
   "file_extension": ".py",
   "mimetype": "text/x-python",
   "name": "python",
   "nbconvert_exporter": "python",
   "pygments_lexer": "ipython3",
   "version": "3.8.11"
  }
 },
 "nbformat": 4,
 "nbformat_minor": 5
}
